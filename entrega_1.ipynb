{
 "cells": [
  {
   "cell_type": "code",
   "execution_count": 156,
   "id": "8c254be9",
   "metadata": {},
   "outputs": [
    {
     "name": "stdout",
     "output_type": "stream",
     "text": [
      "2000.0\n"
     ]
    },
    {
     "data": {
      "text/plain": [
       "<matplotlib.image.AxesImage at 0x1b3829fdee0>"
      ]
     },
     "execution_count": 156,
     "metadata": {},
     "output_type": "execute_result"
    }
   ],
   "source": [
    "#punto 3:sistema 4f\n",
    "import numpy as np\n",
    "import matplotlib.pyplot as plt \n",
    "#inicialmente se lee una imagen de entrada \n",
    "r =200\n",
    "long_onda=0.5\n",
    "n=40\n",
    "z=r**2/(n*long_onda)\n",
    "print(z)\n",
    "#unidades en micrometros\n",
    "x = np.arange(-512*3/2, 512*3/2, 3)\n",
    "y = np.arange(-512*3/2, 512*3/2, 3)\n",
    "xx, yy = np.meshgrid(x, y, sparse=True)\n",
    "a= (xx**2+yy**2<=r**2)\n",
    "\n",
    "#transformada de Fourier de la imagen de entrada, haciendo el papel de la lente L1 \n",
    "F1 =np.fft.fft2(a)\n",
    "\n",
    "#transformada inversa de fourier, haciendo el papel de la lente L2\n",
    "F2=np.fft.ifft2(F1)\n",
    "#finalmente se obtiene como salida una imagen filtrada invertida\n",
    "\n",
    "plt.imshow(a)"
   ]
  },
  {
   "cell_type": "code",
   "execution_count": 141,
   "id": "3e454bc0",
   "metadata": {},
   "outputs": [],
   "source": [
    "#punto 4.a \n",
    "\n",
    "import cv2\n",
    "import matplotlib.pyplot as plt\n",
    "import numpy as np\n",
    "\n",
    "def funcion(mat,indicador,escala):\n",
    "    if(indicador==\"I\"):\n",
    "        mat=np.abs(mat)**2\n",
    "    elif(indicador==\"A\"):\n",
    "        mat=np.abs(mat)\n",
    "    elif(indicador==\"p\"):\n",
    "        mat=np.angle(mat)\n",
    "    \n",
    "    if(escala==1):\n",
    "        plt.figure()\n",
    "        plt.imshow(mat)\n",
    "        plt.show()\n",
    "    else:\n",
    "        plt.figure()\n",
    "        plt.imshow(np.log(mat+0.01))\n",
    "        plt.show()\n",
    "        return 0\n",
    "    \n",
    "\n",
    "imagen =cv2.imread(\"b.png\",cv2.IMREAD_UNCHANGED)\n",
    "F1=np.fft.fftn(imagen)\n",
    "F2=np.fft.fftshift(F1)\n",
    "\n",
    "plt.figure()\n",
    "plt.imshow(imagen,cmap=\"gray\")\n",
    "plt.show()\n",
    "\n",
    "funcion(F1,\"I\",0)\n",
    "\n",
    "\n",
    "mask=np.ones(np.shape(imagen))\n",
    "\n",
    "cv2.circle(mask,(20,30),13,0,-1)\n",
    "plt.figure()\n",
    "plt.imshow(mask)\n",
    "plt.show()\n",
    "\n",
    "mask2=np.ones(np.shape(imagen))\n",
    "\n",
    "cv2.circle(mask2,(750,730),13,0,-1)\n",
    "plt.figure()\n",
    "plt.imshow(mask2)\n",
    "plt.show()\n",
    "\n",
    "\n",
    "nueva=np.fft.ifftn(mask2*F1*mask)\n",
    "plt.figure()\n",
    "plt.imshow(np.abs(nueva**2))\n",
    "plt.show()\n",
    "\n"
   ]
  },
  {
   "cell_type": "code",
   "execution_count": 140,
   "id": "6e07de81",
   "metadata": {},
   "outputs": [],
   "source": [
    "#punto 4.b\n",
    "import cv2\n",
    "import matplotlib.pyplot as plt\n",
    "import numpy as np\n",
    "\n",
    "\n",
    "txt=np.loadtxt(\"a.txt\",delimiter=\",\",dtype=\"complex\") \n",
    "#graficar\n",
    "fig, ax=plt.subplots(2,2,figsize=(10,10))\n",
    "ax[0][0].set_title(\"np.imaginaria(txt)\")\n",
    "ax[0][0].imshow(np.imag(txt))\n",
    "ax[1][1].set_title(\"np.real(txt)\")\n",
    "ax[1][1].imshow(np.real(txt))\n",
    "ax[0][1].set_title(\"np.angulo(txt)\")\n",
    "ax[0][1].imshow(np.angle(txt))\n",
    "ax[1][0].set_title(\"final\")\n",
    "ax[1][0].imshow(np.angle(txt)+np.imag(txt)+np.real(txt))\n",
    "fig.tight_layout()\n",
    "plt.show()\n",
    " \n"
   ]
  },
  {
   "cell_type": "code",
   "execution_count": null,
   "id": "aabed96a",
   "metadata": {},
   "outputs": [],
   "source": []
  },
  {
   "cell_type": "code",
   "execution_count": null,
   "id": "e2ec1d37",
   "metadata": {},
   "outputs": [],
   "source": []
  }
 ],
 "metadata": {
  "kernelspec": {
   "display_name": "Python 3",
   "language": "python",
   "name": "python3"
  },
  "language_info": {
   "codemirror_mode": {
    "name": "ipython",
    "version": 3
   },
   "file_extension": ".py",
   "mimetype": "text/x-python",
   "name": "python",
   "nbconvert_exporter": "python",
   "pygments_lexer": "ipython3",
   "version": "3.8.8"
  }
 },
 "nbformat": 4,
 "nbformat_minor": 5
}
